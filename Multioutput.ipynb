{
 "cells": [
  {
   "cell_type": "markdown",
   "id": "da3f05c0-b810-4ac9-b9a6-37a62416003c",
   "metadata": {
    "tags": []
   },
   "source": [
    "# Read data"
   ]
  },
  {
   "cell_type": "code",
   "execution_count": 108,
   "id": "da50f9fb-7253-4be2-9bb0-f64819c31cf7",
   "metadata": {},
   "outputs": [],
   "source": [
    "import pandas as pd\n",
    "from matplotlib import pyplot as plt\n",
    "import missingno as msno\n",
    "data = pd.read_csv(\"data/2021.12.21_project_data.csv\", sep=\"\\t\")\n",
    "to_pred = \"16-B\""
   ]
  },
  {
   "cell_type": "code",
   "execution_count": 109,
   "id": "e735cb60-dbb1-41f7-af59-296aa71d0077",
   "metadata": {
    "tags": []
   },
   "outputs": [],
   "source": [
    "booleans = [\"zgrzytanie\", \"zaciskanie\", \"sztywnosc\", \"ograniczone otwieranie\", \"bol miesni\", \"przygryzanie\", \"cwiczenia\", \"szyna\", \"starcie-przednie\", \"starcie-boczne\", \"ubytki klinowe\", \"pekniecia szkliwa\", \"impresje jezyka\", \"linea alba\", \"przerost zwaczy\", \"tkliwosc miesni\"]\n",
    "interleukinas = [\"Unnamed: 0\",\n",
    "            \"Interleukina – 11B\",\n",
    "            \"Interleukina – 11P\",\n",
    "            \"Interleukina – 16B\",\n",
    "            \"Interleukina – 16P\",\n",
    "            \"Interleukina – 24B\",\n",
    "            \"Interleukina – 24P\",\n",
    "            \"Interleukina – 31B\",\n",
    "            \"Interleukina – 31P\",\n",
    "            \"Interleukina – 36B\",\n",
    "            \"Interleukina – 36P\",\n",
    "            \"Interleukina – 44B\",\n",
    "            \"Interleukina – 44P\"]\n"
   ]
  },
  {
   "cell_type": "code",
   "execution_count": 110,
   "id": "decd694b-e77c-4bfb-94ea-9fdfe459a631",
   "metadata": {},
   "outputs": [],
   "source": [
    "# change str percentage columns to floats\n",
    "data[\"API\"] = data[\"API\"].apply(lambda x: float(x.replace(\"%\", \"\")) / 100)\n",
    "data[\"SBI\"] = data[\"SBI\"].apply(lambda x: float(x.replace(\"%\", \"\")) / 100)\n"
   ]
  },
  {
   "cell_type": "code",
   "execution_count": 111,
   "id": "f0a0843c-4892-4d62-967a-7e661d020f95",
   "metadata": {},
   "outputs": [],
   "source": [
    "data.drop(columns=booleans, axis=1, inplace=True)\n",
    "data.drop(columns=interleukinas, axis=1, inplace=True)"
   ]
  },
  {
   "cell_type": "code",
   "execution_count": 112,
   "id": "1c8545ae-f4cd-44ab-bb37-43d8021158a4",
   "metadata": {},
   "outputs": [],
   "source": [
    "gender_map = {\n",
    "    \"m\": 0,\n",
    "    \"k\": 1\n",
    "}\n",
    "\n",
    "# change gender data to numbers\n",
    "data[\"plec\"] = data[\"plec\"].apply(lambda x: gender_map[x])\n",
    "\n",
    "\n",
    "y_cols = [\"16-B\", \"16-P\", \"11-B\", \"11-P\", \"24-B\", \"24-P\", \"36-B\", \"36-P\", \"31-B\", \"31-P\", \"44-B\", \"44-P\"]\n",
    "y = data[y_cols]"
   ]
  },
  {
   "cell_type": "code",
   "execution_count": 113,
   "id": "ea711482-8cf7-4a67-bbcb-a84361498cfe",
   "metadata": {},
   "outputs": [],
   "source": [
    "# import seaborn as sns\n",
    "# from scipy import stats\n",
    "# from scipy.stats import norm, skew\n",
    "\n",
    "# for out in y_cols:\n",
    "#     sns.distplot(data[out], fit=norm)\n",
    "#     (mu, sigma) = norm.fit(data[out])\n",
    "#     print( '\\n mu = {:.2f} and sigma = {:.2f}\\n'.format(mu, sigma))\n",
    "    \n",
    "#     #Now plot the distribution\n",
    "#     plt.legend(['Normal dist. ($\\mu=$ {:.2f} and $\\sigma=$ {:.2f} )'.format(mu, sigma)],\n",
    "#                 loc='best')\n",
    "#     plt.ylabel('Frequency')\n",
    "#     plt.title(f'{out} distribution')\n",
    "    \n",
    "#     #Get also the QQ-plot\n",
    "#     fig = plt.figure()\n",
    "#     res = stats.probplot(data[out], plot=plt)\n",
    "#     plt.show()"
   ]
  },
  {
   "cell_type": "code",
   "execution_count": 114,
   "id": "edda6b25-2c30-4535-b7a5-7c78a9ebac29",
   "metadata": {},
   "outputs": [],
   "source": [
    "# sns.set()\n",
    "# cols = [\n",
    "# \"24-B\",       \n",
    "# \"PPD - 31 B\",       \n",
    "# \"GI - 24\",       \n",
    "# \"GI - 31\",       \n",
    "# \"PI - 44\",       \n",
    "# \"PPD - 11\"]       \n",
    "# # cols = data.columns #['SalePrice', 'OverallQual', 'GrLivArea', 'GarageCars', 'TotalBsmtSF', 'FullBath', 'YearBuilt']\n",
    "# sns.pairplot(data[cols], height = 2.5)\n",
    "# plt.show();"
   ]
  },
  {
   "cell_type": "markdown",
   "id": "e4e24fa1-160b-4754-a543-9292347c71e7",
   "metadata": {},
   "source": [
    "do odrzucenia:\n",
    "TWI\n",
    "zgrzytanie\n",
    "zaciskanie\n",
    "sztywnosc\n",
    "ograniczone otwieranie ???\n",
    "bol miesni\n",
    "przygryzanie\n",
    "cwiczenia ???\n",
    "szyna ???\n",
    "starcie-przednie\n",
    "starcie-boczne\n",
    "ubytki klinowe\n",
    "pekniecia \n",
    "impresje jezyka\n",
    "linea alba\n",
    "przerost zwaczy\n",
    "tkliwosc miesni"
   ]
  },
  {
   "cell_type": "code",
   "execution_count": 115,
   "id": "58643733-3496-44c1-9bd5-a8c7e2da6cfa",
   "metadata": {},
   "outputs": [],
   "source": [
    "data.drop(columns=y_cols, axis=1, inplace=True)"
   ]
  },
  {
   "cell_type": "code",
   "execution_count": 116,
   "id": "f57674d3-ff2f-4e59-b7d2-7a918247a875",
   "metadata": {},
   "outputs": [],
   "source": [
    "from sklearn.model_selection import train_test_split\n",
    "\n",
    "X_train, X_test, y_train, y_test = train_test_split(data, y, test_size=0.2, random_state=42)"
   ]
  },
  {
   "cell_type": "code",
   "execution_count": 119,
   "id": "b413947f-d878-4b98-94e0-2fda2c8493fd",
   "metadata": {},
   "outputs": [],
   "source": [
    "from sklearn.svm import SVR\n",
    "from sklearn.metrics import mean_absolute_error\n",
    "from sklearn.linear_model import Ridge, Lasso, ElasticNet, LinearRegression, SGDRegressor\n",
    "from sklearn.multioutput import MultiOutputRegressor\n",
    "import pickle\n",
    "\n",
    "\n",
    "def test_pred(clf, target):\n",
    "    clf.fit(X_train, y_train[target])\n",
    "    pred = clf.predict(X_test)\n",
    "    score = clf.score(X_test, y_test[target])\n",
    "    mae = mean_absolute_error(y_test[target], pred)\n",
    "    pickle.dump(clf, open(target + \"_model.pickle\", \"wb\"))\n",
    "    print(f\"{target} {clf.__class__.__name__}  Score: \", score, \" Mae: \", mae)\n",
    "    return mae\n",
    "\n",
    "\n"
   ]
  },
  {
   "cell_type": "code",
   "execution_count": 120,
   "id": "c62867c8-2df6-4c08-a1e0-232a2656d965",
   "metadata": {},
   "outputs": [
    {
     "name": "stdout",
     "output_type": "stream",
     "text": [
      "16-B SVR  Score:  -0.1274452743917831  Mae:  13.521839650961406\n",
      "16-P SVR  Score:  -0.3341078598918823  Mae:  40.10161102245151\n",
      "11-B SVR  Score:  0.06702850915434477  Mae:  18.836776968080517\n",
      "11-P SVR  Score:  0.04350075169113221  Mae:  14.291238673964694\n",
      "24-B SVR  Score:  0.09380211637522384  Mae:  35.62070404127807\n",
      "24-P SVR  Score:  -0.13787306054498893  Mae:  5.533183284148006\n",
      "36-B SVR  Score:  -0.1141790366720894  Mae:  50.8424002519528\n",
      "36-P SVR  Score:  0.06434523376785606  Mae:  53.60914690493219\n",
      "31-B SVR  Score:  -0.04304315963010352  Mae:  19.496417822497765\n",
      "31-P SVR  Score:  0.04578060688555197  Mae:  39.06445946769315\n",
      "44-B SVR  Score:  -0.08886554476404429  Mae:  17.620768718409607\n",
      "44-P SVR  Score:  0.17025368968668686  Mae:  23.95188387497995\n"
     ]
    }
   ],
   "source": [
    "from sklearn.preprocessing import PolynomialFeatures\n",
    "from sklearn.linear_model import LinearRegression\n",
    "from sklearn.pipeline import Pipeline\n",
    "\n",
    "for target in y_cols:\n",
    "    test_pred(SVR(kernel=\"rbf\", C=10), target)"
   ]
  }
 ],
 "metadata": {
  "kernelspec": {
   "display_name": "Python 3 (ipykernel)",
   "language": "python",
   "name": "python3"
  },
  "language_info": {
   "codemirror_mode": {
    "name": "ipython",
    "version": 3
   },
   "file_extension": ".py",
   "mimetype": "text/x-python",
   "name": "python",
   "nbconvert_exporter": "python",
   "pygments_lexer": "ipython3",
   "version": "3.9.9"
  }
 },
 "nbformat": 4,
 "nbformat_minor": 5
}
