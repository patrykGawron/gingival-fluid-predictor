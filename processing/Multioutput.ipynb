{
 "cells": [
  {
   "cell_type": "markdown",
   "id": "da3f05c0-b810-4ac9-b9a6-37a62416003c",
   "metadata": {
    "tags": []
   },
   "source": [
    "# Read data"
   ]
  },
  {
   "cell_type": "code",
   "execution_count": 74,
   "id": "da50f9fb-7253-4be2-9bb0-f64819c31cf7",
   "metadata": {},
   "outputs": [],
   "source": [
    "import pandas as pd\n",
    "from matplotlib import pyplot as plt\n",
    "import missingno as msno\n",
    "data = pd.read_csv(\"data/2021.12.21_project_data.csv\", sep=\"\\t\")\n",
    "to_pred = \"16-B\""
   ]
  },
  {
   "cell_type": "code",
   "execution_count": 75,
   "id": "e735cb60-dbb1-41f7-af59-296aa71d0077",
   "metadata": {
    "tags": []
   },
   "outputs": [],
   "source": [
    "booleans = [\"zgrzytanie\", \"zaciskanie\", \"sztywnosc\", \"ograniczone otwieranie\", \"bol miesni\", \"przygryzanie\", \"cwiczenia\", \"szyna\", \"starcie-przednie\", \"starcie-boczne\", \"ubytki klinowe\", \"pekniecia szkliwa\", \"impresje jezyka\", \"linea alba\", \"przerost zwaczy\", \"tkliwosc miesni\"]\n",
    "interleukinas = [\"Unnamed: 0\",\n",
    "            \"Interleukina – 11B\",\n",
    "            \"Interleukina – 11P\",\n",
    "            \"Interleukina – 16B\",\n",
    "            \"Interleukina – 16P\",\n",
    "            \"Interleukina – 24B\",\n",
    "            \"Interleukina – 24P\",\n",
    "            \"Interleukina – 31B\",\n",
    "            \"Interleukina – 31P\",\n",
    "            \"Interleukina – 36B\",\n",
    "            \"Interleukina – 36P\",\n",
    "            \"Interleukina – 44B\",\n",
    "            \"Interleukina – 44P\"]\n"
   ]
  },
  {
   "cell_type": "code",
   "execution_count": 76,
   "id": "decd694b-e77c-4bfb-94ea-9fdfe459a631",
   "metadata": {},
   "outputs": [],
   "source": [
    "# change str percentage columns to floats\n",
    "data[\"API\"] = data[\"API\"].apply(lambda x: float(x.replace(\"%\", \"\")) / 100)\n",
    "data[\"SBI\"] = data[\"SBI\"].apply(lambda x: float(x.replace(\"%\", \"\")) / 100)\n"
   ]
  },
  {
   "cell_type": "code",
   "execution_count": 77,
   "id": "f0a0843c-4892-4d62-967a-7e661d020f95",
   "metadata": {},
   "outputs": [],
   "source": [
    "data.drop(columns=booleans, axis=1, inplace=True)\n",
    "data.drop(columns=interleukinas, axis=1, inplace=True)"
   ]
  },
  {
   "cell_type": "code",
   "execution_count": 78,
   "id": "1c8545ae-f4cd-44ab-bb37-43d8021158a4",
   "metadata": {},
   "outputs": [],
   "source": [
    "gender_map = {\n",
    "    \"m\": 0,\n",
    "    \"k\": 1\n",
    "}\n",
    "\n",
    "# change gender data to numbers\n",
    "data[\"plec\"] = data[\"plec\"].apply(lambda x: gender_map[x])\n",
    "\n",
    "\n",
    "y_cols = [\"16-B\", \"16-P\", \"11-B\", \"11-P\", \"24-B\", \"24-P\", \"36-B\", \"36-P\", \"31-B\", \"31-P\", \"44-B\", \"44-P\"]\n",
    "y = data[to_pred]"
   ]
  },
  {
   "cell_type": "code",
   "execution_count": 79,
   "id": "ea711482-8cf7-4a67-bbcb-a84361498cfe",
   "metadata": {},
   "outputs": [],
   "source": [
    "# import seaborn as sns\n",
    "# from scipy import stats\n",
    "# from scipy.stats import norm, skew\n",
    "\n",
    "# for out in y_cols:\n",
    "#     sns.distplot(data[out], fit=norm)\n",
    "#     (mu, sigma) = norm.fit(data[out])\n",
    "#     print( '\\n mu = {:.2f} and sigma = {:.2f}\\n'.format(mu, sigma))\n",
    "    \n",
    "#     #Now plot the distribution\n",
    "#     plt.legend(['Normal dist. ($\\mu=$ {:.2f} and $\\sigma=$ {:.2f} )'.format(mu, sigma)],\n",
    "#                 loc='best')\n",
    "#     plt.ylabel('Frequency')\n",
    "#     plt.title(f'{out} distribution')\n",
    "    \n",
    "#     #Get also the QQ-plot\n",
    "#     fig = plt.figure()\n",
    "#     res = stats.probplot(data[out], plot=plt)\n",
    "#     plt.show()"
   ]
  },
  {
   "cell_type": "code",
   "execution_count": 80,
   "id": "edda6b25-2c30-4535-b7a5-7c78a9ebac29",
   "metadata": {},
   "outputs": [],
   "source": [
    "# sns.set()\n",
    "# cols = [\n",
    "# \"24-B\",       \n",
    "# \"PPD - 31 B\",       \n",
    "# \"GI - 24\",       \n",
    "# \"GI - 31\",       \n",
    "# \"PI - 44\",       \n",
    "# \"PPD - 11\"]       \n",
    "# # cols = data.columns #['SalePrice', 'OverallQual', 'GrLivArea', 'GarageCars', 'TotalBsmtSF', 'FullBath', 'YearBuilt']\n",
    "# sns.pairplot(data[cols], height = 2.5)\n",
    "# plt.show();"
   ]
  },
  {
   "cell_type": "markdown",
   "id": "e4e24fa1-160b-4754-a543-9292347c71e7",
   "metadata": {},
   "source": [
    "do odrzucenia:\n",
    "TWI\n",
    "zgrzytanie\n",
    "zaciskanie\n",
    "sztywnosc\n",
    "ograniczone otwieranie ???\n",
    "bol miesni\n",
    "przygryzanie\n",
    "cwiczenia ???\n",
    "szyna ???\n",
    "starcie-przednie\n",
    "starcie-boczne\n",
    "ubytki klinowe\n",
    "pekniecia \n",
    "impresje jezyka\n",
    "linea alba\n",
    "przerost zwaczy\n",
    "tkliwosc miesni"
   ]
  },
  {
   "cell_type": "code",
   "execution_count": 81,
   "id": "58643733-3496-44c1-9bd5-a8c7e2da6cfa",
   "metadata": {},
   "outputs": [
    {
     "data": {
      "text/html": [
       "<div>\n",
       "<style scoped>\n",
       "    .dataframe tbody tr th:only-of-type {\n",
       "        vertical-align: middle;\n",
       "    }\n",
       "\n",
       "    .dataframe tbody tr th {\n",
       "        vertical-align: top;\n",
       "    }\n",
       "\n",
       "    .dataframe thead th {\n",
       "        text-align: right;\n",
       "    }\n",
       "</style>\n",
       "<table border=\"1\" class=\"dataframe\">\n",
       "  <thead>\n",
       "    <tr style=\"text-align: right;\">\n",
       "      <th></th>\n",
       "      <th>API</th>\n",
       "      <th>SBI</th>\n",
       "      <th>PI - 16</th>\n",
       "      <th>GI - 16</th>\n",
       "      <th>PPD - 16</th>\n",
       "      <th>PPD - 16 B</th>\n",
       "      <th>TWI - 16 suma</th>\n",
       "    </tr>\n",
       "  </thead>\n",
       "  <tbody>\n",
       "    <tr>\n",
       "      <th>0</th>\n",
       "      <td>0.5172</td>\n",
       "      <td>0.0667</td>\n",
       "      <td>0.00</td>\n",
       "      <td>0.00</td>\n",
       "      <td>1.46</td>\n",
       "      <td>1.5</td>\n",
       "      <td>1</td>\n",
       "    </tr>\n",
       "    <tr>\n",
       "      <th>1</th>\n",
       "      <td>0.4231</td>\n",
       "      <td>0.0385</td>\n",
       "      <td>0.05</td>\n",
       "      <td>0.37</td>\n",
       "      <td>0.77</td>\n",
       "      <td>0.7</td>\n",
       "      <td>2</td>\n",
       "    </tr>\n",
       "    <tr>\n",
       "      <th>2</th>\n",
       "      <td>0.1538</td>\n",
       "      <td>0.0345</td>\n",
       "      <td>0.00</td>\n",
       "      <td>0.26</td>\n",
       "      <td>1.32</td>\n",
       "      <td>1.2</td>\n",
       "      <td>0</td>\n",
       "    </tr>\n",
       "    <tr>\n",
       "      <th>3</th>\n",
       "      <td>0.1667</td>\n",
       "      <td>0.0667</td>\n",
       "      <td>0.30</td>\n",
       "      <td>0.75</td>\n",
       "      <td>1.30</td>\n",
       "      <td>0.5</td>\n",
       "      <td>3</td>\n",
       "    </tr>\n",
       "    <tr>\n",
       "      <th>4</th>\n",
       "      <td>0.3846</td>\n",
       "      <td>0.0000</td>\n",
       "      <td>0.57</td>\n",
       "      <td>0.75</td>\n",
       "      <td>0.97</td>\n",
       "      <td>0.5</td>\n",
       "      <td>1</td>\n",
       "    </tr>\n",
       "    <tr>\n",
       "      <th>5</th>\n",
       "      <td>0.0769</td>\n",
       "      <td>0.0000</td>\n",
       "      <td>1.01</td>\n",
       "      <td>0.75</td>\n",
       "      <td>1.92</td>\n",
       "      <td>0.5</td>\n",
       "      <td>1</td>\n",
       "    </tr>\n",
       "    <tr>\n",
       "      <th>6</th>\n",
       "      <td>0.0000</td>\n",
       "      <td>0.0385</td>\n",
       "      <td>0.00</td>\n",
       "      <td>0.34</td>\n",
       "      <td>0.75</td>\n",
       "      <td>1.5</td>\n",
       "      <td>2</td>\n",
       "    </tr>\n",
       "    <tr>\n",
       "      <th>7</th>\n",
       "      <td>0.5172</td>\n",
       "      <td>0.0000</td>\n",
       "      <td>0.48</td>\n",
       "      <td>0.23</td>\n",
       "      <td>0.79</td>\n",
       "      <td>0.5</td>\n",
       "      <td>3</td>\n",
       "    </tr>\n",
       "    <tr>\n",
       "      <th>8</th>\n",
       "      <td>0.1852</td>\n",
       "      <td>0.0667</td>\n",
       "      <td>0.00</td>\n",
       "      <td>0.29</td>\n",
       "      <td>1.02</td>\n",
       "      <td>0.9</td>\n",
       "      <td>0</td>\n",
       "    </tr>\n",
       "    <tr>\n",
       "      <th>9</th>\n",
       "      <td>0.2069</td>\n",
       "      <td>0.0417</td>\n",
       "      <td>0.18</td>\n",
       "      <td>0.00</td>\n",
       "      <td>0.75</td>\n",
       "      <td>0.9</td>\n",
       "      <td>1</td>\n",
       "    </tr>\n",
       "  </tbody>\n",
       "</table>\n",
       "</div>"
      ],
      "text/plain": [
       "      API     SBI  PI - 16  GI - 16  PPD - 16  PPD - 16 B  TWI - 16 suma\n",
       "0  0.5172  0.0667     0.00     0.00      1.46         1.5              1\n",
       "1  0.4231  0.0385     0.05     0.37      0.77         0.7              2\n",
       "2  0.1538  0.0345     0.00     0.26      1.32         1.2              0\n",
       "3  0.1667  0.0667     0.30     0.75      1.30         0.5              3\n",
       "4  0.3846  0.0000     0.57     0.75      0.97         0.5              1\n",
       "5  0.0769  0.0000     1.01     0.75      1.92         0.5              1\n",
       "6  0.0000  0.0385     0.00     0.34      0.75         1.5              2\n",
       "7  0.5172  0.0000     0.48     0.23      0.79         0.5              3\n",
       "8  0.1852  0.0667     0.00     0.29      1.02         0.9              0\n",
       "9  0.2069  0.0417     0.18     0.00      0.75         0.9              1"
      ]
     },
     "execution_count": 81,
     "metadata": {},
     "output_type": "execute_result"
    }
   ],
   "source": [
    "data.drop(columns=y_cols, axis=1, inplace=True)\n",
    "data = data[[\"API\", \"SBI\", \"PI - 16\", \"GI - 16\", \"PPD - 16\", \"PPD - 16 B\", \"TWI - 16 suma\"]]\n",
    "data.head(10)"
   ]
  },
  {
   "cell_type": "code",
   "execution_count": 82,
   "id": "f57674d3-ff2f-4e59-b7d2-7a918247a875",
   "metadata": {},
   "outputs": [],
   "source": [
    "from sklearn.model_selection import train_test_split\n",
    "\n",
    "X_train, X_test, y_train, y_test = train_test_split(data, y, test_size=0.2, random_state=42)"
   ]
  },
  {
   "cell_type": "code",
   "execution_count": 83,
   "id": "b413947f-d878-4b98-94e0-2fda2c8493fd",
   "metadata": {},
   "outputs": [],
   "source": [
    "from sklearn.svm import SVR\n",
    "from sklearn.metrics import mean_absolute_error\n",
    "from sklearn.linear_model import Ridge, Lasso, ElasticNet, LinearRegression, SGDRegressor\n",
    "from sklearn.multioutput import MultiOutputRegressor\n",
    "\n",
    "def test_pred(clf):\n",
    "    clf.fit(X_train, y_train)\n",
    "    pred = clf.predict(X_test)\n",
    "    score = clf.score(X_test, y_test)\n",
    "    mae = mean_absolute_error(y_test, pred)\n",
    "    print(f\"{clf.__class__.__name__}  Score: \", score, \" Mae: \", mae)\n",
    "    return mae\n",
    "\n",
    "\n"
   ]
  },
  {
   "cell_type": "code",
   "execution_count": 96,
   "id": "c62867c8-2df6-4c08-a1e0-232a2656d965",
   "metadata": {},
   "outputs": [
    {
     "name": "stdout",
     "output_type": "stream",
     "text": [
      "SVR  Score:  -0.16720316648351186  Mae:  13.797011919694253\n",
      "Lasso  Score:  0.011712306272618545  Mae:  16.69792444655378\n",
      "Pipeline  Score:  -0.001328457994597132  Mae:  16.568569057620085\n"
     ]
    },
    {
     "data": {
      "text/plain": [
       "16.568569057620085"
      ]
     },
     "execution_count": 96,
     "metadata": {},
     "output_type": "execute_result"
    }
   ],
   "source": [
    "from sklearn.preprocessing import PolynomialFeatures\n",
    "from sklearn.linear_model import LinearRegression\n",
    "from sklearn.pipeline import Pipeline\n",
    "\n",
    "test_pred(SVR(kernel=\"rbf\", C=10))\n",
    "test_pred(Lasso(alpha=0.1))\n",
    "test_pred(Pipeline([('poly', PolynomialFeatures(degree=2)),\n",
    "                   ('linear', LinearRegression(fit_intercept=False))]))"
   ]
  },
  {
   "cell_type": "code",
   "execution_count": 87,
   "id": "7f897ed1-0e4d-4310-9d71-31e64d02c845",
   "metadata": {},
   "outputs": [
    {
     "data": {
      "image/png": "[encoded data removed]",
      "text/plain": [
       "<Figure size 432x288 with 2 Axes>"
      ]
     },
     "metadata": {},
     "output_type": "display_data"
    }
   ],
   "source": [
    "from sklearn.model_selection import GridSearchCV \n",
    "\n",
    "parameters = {\n",
    "    'kernel': ('linear', 'rbf', 'poly'), \n",
    "    'C':[1, 10],\n",
    "    'degree': [1, 2, 3, 4, 5, 6],\n",
    "    \n",
    "}\n",
    "clf = GridSearchCV(SVR(), parameters, cv=10)\n",
    "clf.fit(X_train, y_train)\n",
    "\n",
    "pvt = pd.pivot_table(\n",
    "    pd.DataFrame(clf.cv_results_),\n",
    "    values='mean_test_score', \n",
    "    index='param_kernel', \n",
    "    columns='param_C'\n",
    ")\n",
    "\n",
    "ax = sns.heatmap(pvt)"
   ]
  }
 ],
 "metadata": {
  "kernelspec": {
   "display_name": "Python 3 (ipykernel)",
   "language": "python",
   "name": "python3"
  },
  "language_info": {
   "codemirror_mode": {
    "name": "ipython",
    "version": 3
   },
   "file_extension": ".py",
   "mimetype": "text/x-python",
   "name": "python",
   "nbconvert_exporter": "python",
   "pygments_lexer": "ipython3",
   "version": "3.9.9"
  }
 },
 "nbformat": 4,
 "nbformat_minor": 5
}
